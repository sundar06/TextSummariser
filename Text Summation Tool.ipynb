{
 "cells": [
  {
   "cell_type": "code",
   "execution_count": 1,
   "metadata": {
    "collapsed": true
   },
   "outputs": [],
   "source": [
    "import pandas as pd\n",
    "import logging\n",
    "import glob\n",
    "from sklearn.model_selection import train_test_split\n",
    "pd.set_option('display.max_colwidth', 500)\n",
    "logger = logging.getLogger()\n",
    "logger.setLevel(logging.WARNING)"
   ]
  },
  {
   "cell_type": "code",
   "execution_count": 6,
   "metadata": {},
   "outputs": [
    {
     "name": "stdout",
     "output_type": "stream",
     "text": [
      "Train: 34 rows 2 columns\n",
      "Test: 4 rows 2 columns\n"
     ]
    },
    {
     "data": {
      "text/html": [
       "<div>\n",
       "<style scoped>\n",
       "    .dataframe tbody tr th:only-of-type {\n",
       "        vertical-align: middle;\n",
       "    }\n",
       "\n",
       "    .dataframe tbody tr th {\n",
       "        vertical-align: top;\n",
       "    }\n",
       "\n",
       "    .dataframe thead th {\n",
       "        text-align: right;\n",
       "    }\n",
       "</style>\n",
       "<table border=\"1\" class=\"dataframe\">\n",
       "  <thead>\n",
       "    <tr style=\"text-align: right;\">\n",
       "      <th></th>\n",
       "      <th>excavation</th>\n",
       "      <th>summarize</th>\n",
       "    </tr>\n",
       "  </thead>\n",
       "  <tbody>\n",
       "    <tr>\n",
       "      <th>10</th>\n",
       "      <td>earthwork in excavation upto 3.0m depth below existing ground level including lifting, dressing of sides and ramming of bottom, shoring, strutting, dewatering, stacking of excavated soil with all equipment and materials, all complete as per specification, drawings and instructions of the purchaser / engineer, including a lead upto 100 m within plant boundary for all types of soil</td>\n",
       "      <td>excavation upto 3.0m depth a lead upto 100 m within plant boundary for all types of soil</td>\n",
       "    </tr>\n",
       "    <tr>\n",
       "      <th>27</th>\n",
       "      <td>Earthwork in excavation for depth beyond 10.0m below ground level for foundations, trenches, pipe lines, storm water drains etc. including lifting, dressing of sides and ramming of bottom, shoring, strutting, dewatering, stacking of excavated soil with all equipment and materials, all complete as per specification, drawings and instructions of the Purchaser / Engineer, including a lead upto 500 m within plant boundary for all types of Soil, weathered rock. Measurement shall be limited to 10 ...</td>\n",
       "      <td>excavation for depth beyond 10.0m including a lead upto 500 m within plant all types of Soil</td>\n",
       "    </tr>\n",
       "    <tr>\n",
       "      <th>37</th>\n",
       "      <td>Disposal of surplus excavated earth beyond a lead of 1.0 KM upto 8.0 KM dumping and leveling the area from where the dumped earth is to be transported complete with all lifts as specified and directed by Engineer.</td>\n",
       "      <td>a lead of 1.0 KM upto 8.0 KM dumping and leveling all lifts</td>\n",
       "    </tr>\n",
       "  </tbody>\n",
       "</table>\n",
       "</div>"
      ],
      "text/plain": [
       "                                                                                                                                                                                                                                                                                                                                                                                                                                                                                                             excavation  \\\n",
       "10                                                                                                                       earthwork in excavation upto 3.0m depth below existing ground level including lifting, dressing of sides and ramming of bottom, shoring, strutting, dewatering, stacking of excavated soil with all equipment and materials, all complete as per specification, drawings and instructions of the purchaser / engineer, including a lead upto 100 m within plant boundary for all types of soil   \n",
       "27  Earthwork in excavation for depth beyond 10.0m below ground level for foundations, trenches, pipe lines, storm water drains etc. including lifting, dressing of sides and ramming of bottom, shoring, strutting, dewatering, stacking of excavated soil with all equipment and materials, all complete as per specification, drawings and instructions of the Purchaser / Engineer, including a lead upto 500 m within plant boundary for all types of Soil, weathered rock. Measurement shall be limited to 10 ...   \n",
       "37                                                                                                                                                                                                                                                                                                Disposal of surplus excavated earth beyond a lead of 1.0 KM upto 8.0 KM dumping and leveling the area from where the dumped earth is to be transported complete with all lifts as specified and directed by Engineer.   \n",
       "\n",
       "                                                                                       summarize  \n",
       "10      excavation upto 3.0m depth a lead upto 100 m within plant boundary for all types of soil  \n",
       "27  excavation for depth beyond 10.0m including a lead upto 500 m within plant all types of Soil  \n",
       "37                                   a lead of 1.0 KM upto 8.0 KM dumping and leveling all lifts  "
      ]
     },
     "execution_count": 6,
     "metadata": {},
     "output_type": "execute_result"
    }
   ],
   "source": [
    "#read in data sample 2M rows (for speed of tutorial)\n",
    "traindf, testdf = train_test_split(pd.read_csv('Excavation_rawdata.csv'), \n",
    "                                   test_size=.10)\n",
    "\n",
    "\n",
    "#print out stats about shape of data\n",
    "print(f'Train: {traindf.shape[0]:,} rows {traindf.shape[1]:,} columns')\n",
    "print(f'Test: {testdf.shape[0]:,} rows {testdf.shape[1]:,} columns')\n",
    "\n",
    "# preview data\n",
    "traindf.head(3)\n",
    "#testdf.head(3)"
   ]
  },
  {
   "cell_type": "code",
   "execution_count": 7,
   "metadata": {},
   "outputs": [
    {
     "data": {
      "text/plain": [
       "'earthwork in excavation upto 3.0m depth below existing ground level including lifting, dressing of sides and ramming of bottom, shoring, strutting, dewatering, stacking of excavated soil with all equipment and materials, all complete as per specification, drawings and instructions of the purchaser / engineer, including a lead upto 100 m within plant boundary for all types of soil'"
      ]
     },
     "execution_count": 7,
     "metadata": {},
     "output_type": "execute_result"
    }
   ],
   "source": [
    "train_body_raw = traindf.excavation.tolist()\n",
    "train_title_raw = traindf.summarize.tolist()\n",
    "#preview output of first element\n",
    "train_body_raw[0]\n"
   ]
  },
  {
   "cell_type": "code",
   "execution_count": 8,
   "metadata": {},
   "outputs": [
    {
     "name": "stderr",
     "output_type": "stream",
     "text": [
      "C:\\Users\\sunda\\Anaconda3\\lib\\site-packages\\h5py\\__init__.py:34: FutureWarning: Conversion of the second argument of issubdtype from `float` to `np.floating` is deprecated. In future, it will be treated as `np.float64 == np.dtype(float).type`.\n",
      "  from ._conv import register_converters as _register_converters\n",
      "Using TensorFlow backend.\n"
     ]
    }
   ],
   "source": [
    "%reload_ext autoreload\n",
    "%autoreload 2\n",
    "from ktext.preprocess import processor"
   ]
  },
  {
   "cell_type": "code",
   "execution_count": 11,
   "metadata": {},
   "outputs": [
    {
     "name": "stderr",
     "output_type": "stream",
     "text": [
      "WARNING:root:....tokenizing data\n",
      "WARNING:root:(1/2) done. 9 sec\n",
      "WARNING:root:....building corpus\n",
      "WARNING:root:(2/2) done. 0 sec\n",
      "WARNING:root:Finished parsing 34 documents.\n",
      "WARNING:root:...fit is finished, beginning transform\n",
      "WARNING:root:...padding data\n",
      "WARNING:root:done. 0 sec\n"
     ]
    }
   ],
   "source": [
    "from ktext.preprocess import processor\n",
    "# instantiate data processing object\n",
    "body_pp = processor(keep_n=1000, padding_maxlen=100)\n",
    "# process data\n",
    "train_body_vecs = body_pp.fit_transform(train_body_raw)"
   ]
  },
  {
   "cell_type": "code",
   "execution_count": 9,
   "metadata": {},
   "outputs": [
    {
     "name": "stdout",
     "output_type": "stream",
     "text": [
      "earthwork in excavation upto 3.0m depth below existing ground level including lifting, dressing of sides and ramming of bottom, shoring, strutting, dewatering, stacking of excavated soil with all equipment and materials, all complete as per specification, drawings and instructions of the purchaser / engineer, including a lead upto 100 m within plant boundary for all types of soil\n"
     ]
    }
   ],
   "source": [
    "print(train_body_raw[0])"
   ]
  },
  {
   "cell_type": "code",
   "execution_count": 12,
   "metadata": {},
   "outputs": [
    {
     "name": "stdout",
     "output_type": "stream",
     "text": [
      "[ 0  0  0  0  0  0  0  0  0  0  0  0  0  0  0  0  0  0  0  0  0  0  0  0\n",
      "  0  0  0  0  0  0  0  0  0  0  0  0  0  0  0  0  0  0 36  9 10 24  4 46\n",
      " 33 31 93 25 43  7 50 37  2 48  3 41  2 19 28 29 34 32  2 18 11 17  6 51\n",
      "  3 44  6 22 12 15 38 35  3 47  2  5 56 23  7 20 16 24  4 26 57 61 62  8\n",
      "  6 27  2 11]\n"
     ]
    }
   ],
   "source": [
    "print(train_body_vecs[0])"
   ]
  },
  {
   "cell_type": "code",
   "execution_count": 13,
   "metadata": {},
   "outputs": [
    {
     "name": "stderr",
     "output_type": "stream",
     "text": [
      "WARNING:root:....tokenizing data\n",
      "WARNING:root:(1/2) done. 9 sec\n",
      "WARNING:root:....building corpus\n",
      "WARNING:root:(2/2) done. 0 sec\n",
      "WARNING:root:Finished parsing 34 documents.\n",
      "WARNING:root:...fit is finished, beginning transform\n",
      "WARNING:root:...padding data\n",
      "WARNING:root:done. 0 sec\n"
     ]
    }
   ],
   "source": [
    "# instantiate the pre-processor for titles\n",
    "title_pp = processor(append_indicators=True, keep_n=4500, \n",
    "                     padding_maxlen=30, padding ='post')\n",
    "# process the titles\n",
    "train_title_vecs = title_pp.fit_transform(train_title_raw)"
   ]
  },
  {
   "cell_type": "code",
   "execution_count": 9,
   "metadata": {},
   "outputs": [
    {
     "name": "stdout",
     "output_type": "stream",
     "text": [
      "\n",
      "original string:\n",
      " Excavation for leveling of ground soil of all types excavated material up to a distance of 50 m\n",
      "after pre-processing:\n",
      " [ 3 15 20 41  5 42 10  5  8 11 32 43 19 16 17 44  5  2  9  4  0  0  0  0\n",
      "  0  0  0  0  0  0]\n"
     ]
    }
   ],
   "source": [
    "print('\\noriginal string:\\n', train_title_raw[0])\n",
    "print('after pre-processing:\\n', train_title_vecs[0])\n"
   ]
  },
  {
   "cell_type": "code",
   "execution_count": 14,
   "metadata": {
    "collapsed": true
   },
   "outputs": [],
   "source": [
    "\n",
    "\n",
    "import dill as dpickle\n",
    "import numpy as np\n",
    "\n",
    "# Save the preprocessor\n",
    "with open('body_pp.dpkl', 'wb') as f:\n",
    "    dpickle.dump(body_pp, f)\n",
    "\n",
    "with open('title_pp.dpkl', 'wb') as f:\n",
    "    dpickle.dump(title_pp, f)\n",
    "\n",
    "# Save the processed data\n",
    "np.save('train_title_vecs.npy', train_title_vecs)\n",
    "np.save('train_body_vecs.npy', train_body_vecs)\n",
    "\n"
   ]
  },
  {
   "cell_type": "code",
   "execution_count": 15,
   "metadata": {
    "collapsed": true
   },
   "outputs": [],
   "source": [
    "from seq2seq_utils import load_decoder_inputs, load_encoder_inputs, load_text_processor"
   ]
  },
  {
   "cell_type": "code",
   "execution_count": 12,
   "metadata": {},
   "outputs": [
    {
     "name": "stdout",
     "output_type": "stream",
     "text": [
      "Shape of encoder input: (34, 100)\n",
      "Shape of decoder input: (34, 29)\n",
      "Shape of decoder target: (34, 29)\n"
     ]
    }
   ],
   "source": [
    "encoder_input_data, doc_length = load_encoder_inputs('train_body_vecs.npy')\n",
    "decoder_input_data, decoder_target_data = load_decoder_inputs('train_title_vecs.npy')"
   ]
  },
  {
   "cell_type": "code",
   "execution_count": 13,
   "metadata": {},
   "outputs": [
    {
     "name": "stdout",
     "output_type": "stream",
     "text": [
      "Size of vocabulary for body_pp.dpkl: 282\n",
      "Size of vocabulary for title_pp.dpkl: 93\n"
     ]
    }
   ],
   "source": [
    "num_encoder_tokens, body_pp = load_text_processor('body_pp.dpkl')\n",
    "num_decoder_tokens, title_pp = load_text_processor('title_pp.dpkl')"
   ]
  },
  {
   "cell_type": "code",
   "execution_count": 14,
   "metadata": {
    "collapsed": true
   },
   "outputs": [],
   "source": [
    "%matplotlib inline\n",
    "from keras.models import Model\n",
    "from keras.layers import Input, LSTM, GRU, Dense, Embedding, Bidirectional, BatchNormalization\n",
    "from keras import optimizers"
   ]
  },
  {
   "cell_type": "code",
   "execution_count": null,
   "metadata": {
    "collapsed": true
   },
   "outputs": [],
   "source": []
  },
  {
   "cell_type": "code",
   "execution_count": 15,
   "metadata": {
    "collapsed": true
   },
   "outputs": [],
   "source": [
    "    from keras.models import Model\n",
    "    from keras.layers import Input, LSTM, GRU, Dense, Embedding, Bidirectional, BatchNormalization\n",
    "    from keras import optimizers\n",
    "\n",
    "    #arbitrarly set latent dimension for embedding and hidden units\n",
    "    latent_dim = 300\n",
    "\n",
    "    ##### Define Model Architecture ######\n",
    "\n",
    "    ########################\n",
    "    #### Encoder Model ####\n",
    "    encoder_inputs = Input(shape=(doc_length,), name='Encoder-Input')\n",
    "\n",
    "    # Word embeding for encoder (ex: Issue Body)\n",
    "    x = Embedding(num_encoder_tokens, \n",
    "                  latent_dim, \n",
    "                  name='Body-Word-Embedding', \n",
    "                  mask_zero=False)(encoder_inputs)\n",
    "\n",
    "    x = BatchNormalization(name='Encoder-Batchnorm-1')(x)\n",
    "\n",
    "    # We do not need the `encoder_output` just the hidden state.\n",
    "    _, state_h = GRU(latent_dim, return_state=True, name='Encoder-Last-GRU')(x)\n",
    "\n",
    "    # Encapsulate the encoder as a separate entity so we can just \n",
    "    #  encode without decoding if we want to.\n",
    "    encoder_model = Model(inputs=encoder_inputs, \n",
    "                          outputs=state_h, \n",
    "                          name='Encoder-Model')\n",
    "\n",
    "    seq2seq_encoder_out = encoder_model(encoder_inputs)\n",
    "\n",
    "    ########################\n",
    "    #### Decoder Model ####\n",
    "    decoder_inputs = Input(shape=(None,), name='Decoder-Input')  # for teacher forcing\n",
    "\n",
    "    # Word Embedding For Decoder (ex: Issue Titles)\n",
    "    dec_emb = Embedding(num_decoder_tokens, \n",
    "                        latent_dim, \n",
    "                        name='Decoder-Word-Embedding', \n",
    "                        mask_zero=False)(decoder_inputs)\n",
    "\n",
    "    dec_bn = BatchNormalization(name='Decoder-Batchnorm-1')(dec_emb)\n",
    "\n",
    "    # Set up the decoder, using `decoder_state_input` as initial state.\n",
    "    decoder_gru = GRU(latent_dim, \n",
    "                      return_state=True, \n",
    "                      return_sequences=True, \n",
    "                      name='Decoder-GRU')\n",
    "\n",
    "    decoder_gru_output, _ = decoder_gru(dec_bn, initial_state=seq2seq_encoder_out)\n",
    "    x = BatchNormalization(name='Decoder-Batchnorm-2')(decoder_gru_output)\n",
    "\n",
    "    # Dense layer for prediction\n",
    "    decoder_dense = Dense(num_decoder_tokens, \n",
    "                          activation='softmax', \n",
    "                          name='Final-Output-Dense')\n",
    "\n",
    "    decoder_outputs = decoder_dense(x)\n",
    "\n",
    "    ########################\n",
    "    #### Seq2Seq Model ####\n",
    "\n",
    "    #seq2seq_decoder_out = decoder_model([decoder_inputs, seq2seq_encoder_out])\n",
    "    seq2seq_Model = Model([encoder_inputs, decoder_inputs], decoder_outputs)\n",
    "\n",
    "\n",
    "    seq2seq_Model.compile(optimizer=optimizers.Nadam(lr=0.001), \n",
    "    loss='sparse_categorical_crossentropy')"
   ]
  },
  {
   "cell_type": "code",
   "execution_count": 16,
   "metadata": {},
   "outputs": [
    {
     "name": "stdout",
     "output_type": "stream",
     "text": [
      "__________________________________________________________________________________________________\n",
      "Layer (type)                    Output Shape         Param #     Connected to                     \n",
      "==================================================================================================\n",
      "Decoder-Input (InputLayer)      (None, None)         0                                            \n",
      "__________________________________________________________________________________________________\n",
      "Decoder-Word-Embedding (Embeddi (None, None, 300)    27900       Decoder-Input[0][0]              \n",
      "__________________________________________________________________________________________________\n",
      "Encoder-Input (InputLayer)      (None, 100)          0                                            \n",
      "__________________________________________________________________________________________________\n",
      "Decoder-Batchnorm-1 (BatchNorma (None, None, 300)    1200        Decoder-Word-Embedding[0][0]     \n",
      "__________________________________________________________________________________________________\n",
      "Encoder-Model (Model)           (None, 300)          626700      Encoder-Input[0][0]              \n",
      "__________________________________________________________________________________________________\n",
      "Decoder-GRU (GRU)               [(None, None, 300),  540900      Decoder-Batchnorm-1[0][0]        \n",
      "                                                                 Encoder-Model[1][0]              \n",
      "__________________________________________________________________________________________________\n",
      "Decoder-Batchnorm-2 (BatchNorma (None, None, 300)    1200        Decoder-GRU[0][0]                \n",
      "__________________________________________________________________________________________________\n",
      "Final-Output-Dense (Dense)      (None, None, 93)     27993       Decoder-Batchnorm-2[0][0]        \n",
      "==================================================================================================\n",
      "Total params: 1,225,893\n",
      "Trainable params: 1,224,093\n",
      "Non-trainable params: 1,800\n",
      "__________________________________________________________________________________________________\n"
     ]
    }
   ],
   "source": [
    "from seq2seq_utils import viz_model_architecture\n",
    "seq2seq_Model.summary()\n",
    "#viz_model_architecture(seq2seq_Model)"
   ]
  },
  {
   "cell_type": "code",
   "execution_count": 21,
   "metadata": {
    "scrolled": true
   },
   "outputs": [
    {
     "name": "stdout",
     "output_type": "stream",
     "text": [
      "Train on 29 samples, validate on 5 samples\n",
      "Epoch 1/10\n",
      "29/29 [==============================] - 0s 12ms/step - loss: 0.6426 - val_loss: 1.3259\n"
     ]
    },
    {
     "name": "stderr",
     "output_type": "stream",
     "text": [
      "C:\\Users\\sunda\\Anaconda3\\lib\\site-packages\\keras\\engine\\network.py:877: UserWarning: Layer Decoder-GRU was passed non-serializable keyword arguments: {'initial_state': [<tf.Tensor 'Encoder-Model/Encoder-Last-GRU/while/Exit_3:0' shape=(?, 300) dtype=float32>]}. They will not be included in the serialized model (and thus will be missing at deserialization time).\n",
      "  '. They will not be included '\n"
     ]
    },
    {
     "name": "stdout",
     "output_type": "stream",
     "text": [
      "Epoch 2/10\n",
      "29/29 [==============================] - 0s 12ms/step - loss: 0.5383 - val_loss: 1.2967\n",
      "Epoch 3/10\n",
      "29/29 [==============================] - 0s 12ms/step - loss: 0.4597 - val_loss: 1.3007\n",
      "Epoch 4/10\n",
      "29/29 [==============================] - 0s 13ms/step - loss: 0.4017 - val_loss: 1.2817\n",
      "Epoch 5/10\n",
      "29/29 [==============================] - 0s 12ms/step - loss: 0.3470 - val_loss: 1.2813\n",
      "Epoch 6/10\n",
      "29/29 [==============================] - 0s 12ms/step - loss: 0.3021 - val_loss: 1.2911\n",
      "Epoch 7/10\n",
      "29/29 [==============================] - 0s 13ms/step - loss: 0.2710 - val_loss: 1.2960\n",
      "Epoch 8/10\n",
      "29/29 [==============================] - 0s 13ms/step - loss: 0.2506 - val_loss: 1.3279\n",
      "Epoch 9/10\n",
      "29/29 [==============================] - 0s 12ms/step - loss: 0.2396 - val_loss: 1.3233\n",
      "Epoch 10/10\n",
      "29/29 [==============================] - 0s 11ms/step - loss: 0.2193 - val_loss: 1.3500\n"
     ]
    }
   ],
   "source": [
    "from keras.callbacks import CSVLogger, ModelCheckpoint\n",
    "\n",
    "script_name_base = 'tutorial_seq2seq'\n",
    "csv_logger = CSVLogger('{:}.log'.format(script_name_base))\n",
    "model_checkpoint = ModelCheckpoint('{:}.epoch{{epoch:02d}}-val{{val_loss:.5f}}.hdf5'.format(script_name_base),\n",
    "                                   save_best_only=True)\n",
    "\n",
    "batch_size = 1200\n",
    "epochs = 10\n",
    "history = seq2seq_Model.fit([encoder_input_data, decoder_input_data], np.expand_dims(decoder_target_data, -1),\n",
    "          batch_size=batch_size,\n",
    "          epochs=epochs,\n",
    "          validation_split=0.12, callbacks=[csv_logger, model_checkpoint])"
   ]
  },
  {
   "cell_type": "code",
   "execution_count": 18,
   "metadata": {},
   "outputs": [
    {
     "name": "stderr",
     "output_type": "stream",
     "text": [
      "C:\\Users\\sunda\\Anaconda3\\lib\\site-packages\\keras\\engine\\network.py:877: UserWarning: Layer Decoder-GRU was passed non-serializable keyword arguments: {'initial_state': [<tf.Tensor 'Encoder-Model/Encoder-Last-GRU/while/Exit_3:0' shape=(?, 300) dtype=float32>]}. They will not be included in the serialized model (and thus will be missing at deserialization time).\n",
      "  '. They will not be included '\n"
     ]
    }
   ],
   "source": [
    "\n",
    "\n",
    "#save model\n",
    "seq2seq_Model.save('seq2seq_model_tutorial.h5')\n",
    "\n"
   ]
  },
  {
   "cell_type": "code",
   "execution_count": 22,
   "metadata": {
    "collapsed": true
   },
   "outputs": [],
   "source": [
    "from seq2seq_utils import Seq2Seq_Inference\n",
    "seq2seq_inf = Seq2Seq_Inference(encoder_preprocessor=body_pp,\n",
    "                                 decoder_preprocessor=title_pp,\n",
    "                                 seq2seq_model=seq2seq_Model)"
   ]
  },
  {
   "cell_type": "code",
   "execution_count": 23,
   "metadata": {
    "scrolled": true
   },
   "outputs": [
    {
     "name": "stdout",
     "output_type": "stream",
     "text": [
      "\n",
      "\n",
      "==============================================\n",
      "============== Example # 2 =================\n",
      "\n",
      "Issue Body:\n",
      " excavation in ordinary soil including lifting, dressing of sides and ramming of bottom, shoring, strutting, stacking of excavated soil, including disposal up to a lead of 50 m with manpower, machinery, tools and tackles, consumables etc. all complete as per the technical specifications, design, drawings and directions of the engineer-in-charge \n",
      "\n",
      "Original Title:\n",
      " ordinary soil  disposal up to a lead of 50 m with manpower\n",
      "\n",
      "****** Machine Generated Title (Prediction) ******:\n",
      " excavation in ordinary soil disposal up to a lead of number m\n",
      "\n",
      "\n",
      "==============================================\n",
      "============== Example # 3 =================\n",
      "\n",
      "Issue Body:\n",
      " earthwork in excavation upto 2.0m depth below existing ground level for foundations including stripping of top soil, lifting, dressing of sides and ramming of bottom, stacking of excavated soil, dewatering with all equipment and materials complete as per specification, drawings and instructions of the purchaser / engineer, including a lead upto 100 m within plant boundary for all types of soil \n",
      "\n",
      "Original Title:\n",
      " excavation upto 2.0m depth  dewatering with all equipment  lead upto 100 m within plant boundary all types of soil\n",
      "\n",
      "****** Machine Generated Title (Prediction) ******:\n",
      " excavation upto number 0m depth a lead upto number m within plant boundary all types of soil\n",
      "\n",
      "\n",
      "==============================================\n",
      "============== Example # 1 =================\n",
      "\n",
      "Issue Body:\n",
      " earthwork in excavation for depth exceeding 0 m but not exceeding 10.0 m below ground level for foundations, trenches, pipe lines, storm water drains etc. including lifting, dressing of sides and ramming of bottom, shoring, strutting, dewatering, stacking of excavated soil with all equipment and materials, all complete as per specification, drawings and instruction of purchaser/ engineer, including a lead up to 500 m within plant boundary for all type of soil, weathered rock and hard rock. \n",
      "\n",
      "Original Title:\n",
      " exceeding 0 m but not exceeding 10.0 m a lead up to 500 m within plant boundary for all type of soil\n",
      "\n",
      "****** Machine Generated Title (Prediction) ******:\n",
      " excavation for depth exceeding number 0m but not exceeding number 0m but not exceeding number 0m a lead upto number m within plant all types of soil\n",
      "\n",
      "\n",
      "==============================================\n",
      "============== Example # 3 =================\n",
      "\n",
      "Issue Body:\n",
      " earthwork in excavation upto 2.0m depth below existing ground level for foundations including stripping of top soil, lifting, dressing of sides and ramming of bottom, stacking of excavated soil, dewatering with all equipment and materials complete as per specification, drawings and instructions of the purchaser / engineer, including a lead upto 100 m within plant boundary for all types of soil \n",
      "\n",
      "Original Title:\n",
      " excavation upto 2.0m depth  dewatering with all equipment  lead upto 100 m within plant boundary all types of soil\n",
      "\n",
      "****** Machine Generated Title (Prediction) ******:\n",
      " excavation upto number 0m depth a lead upto number m within plant boundary all types of soil\n",
      "\n",
      "\n",
      "==============================================\n",
      "============== Example # 3 =================\n",
      "\n",
      "Issue Body:\n",
      " earthwork in excavation upto 2.0m depth below existing ground level for foundations including stripping of top soil, lifting, dressing of sides and ramming of bottom, stacking of excavated soil, dewatering with all equipment and materials complete as per specification, drawings and instructions of the purchaser / engineer, including a lead upto 100 m within plant boundary for all types of soil \n",
      "\n",
      "Original Title:\n",
      " excavation upto 2.0m depth  dewatering with all equipment  lead upto 100 m within plant boundary all types of soil\n",
      "\n",
      "****** Machine Generated Title (Prediction) ******:\n",
      " excavation upto number 0m depth a lead upto number m within plant boundary all types of soil\n",
      "\n",
      "\n",
      "==============================================\n",
      "============== Example # 2 =================\n",
      "\n",
      "Issue Body:\n",
      " excavation in ordinary soil including lifting, dressing of sides and ramming of bottom, shoring, strutting, stacking of excavated soil, including disposal up to a lead of 50 m with manpower, machinery, tools and tackles, consumables etc. all complete as per the technical specifications, design, drawings and directions of the engineer-in-charge \n",
      "\n",
      "Original Title:\n",
      " ordinary soil  disposal up to a lead of 50 m with manpower\n",
      "\n",
      "****** Machine Generated Title (Prediction) ******:\n",
      " excavation in ordinary soil disposal up to a lead of number m\n",
      "\n",
      "\n",
      "==============================================\n",
      "============== Example # 3 =================\n",
      "\n",
      "Issue Body:\n",
      " earthwork in excavation upto 2.0m depth below existing ground level for foundations including stripping of top soil, lifting, dressing of sides and ramming of bottom, stacking of excavated soil, dewatering with all equipment and materials complete as per specification, drawings and instructions of the purchaser / engineer, including a lead upto 100 m within plant boundary for all types of soil \n",
      "\n",
      "Original Title:\n",
      " excavation upto 2.0m depth  dewatering with all equipment  lead upto 100 m within plant boundary all types of soil\n",
      "\n",
      "****** Machine Generated Title (Prediction) ******:\n",
      " excavation upto number 0m depth a lead upto number m within plant boundary all types of soil\n",
      "\n",
      "\n",
      "==============================================\n",
      "============== Example # 2 =================\n",
      "\n",
      "Issue Body:\n",
      " excavation in ordinary soil including lifting, dressing of sides and ramming of bottom, shoring, strutting, stacking of excavated soil, including disposal up to a lead of 50 m with manpower, machinery, tools and tackles, consumables etc. all complete as per the technical specifications, design, drawings and directions of the engineer-in-charge \n",
      "\n",
      "Original Title:\n",
      " ordinary soil  disposal up to a lead of 50 m with manpower\n",
      "\n",
      "****** Machine Generated Title (Prediction) ******:\n",
      " excavation in ordinary soil disposal up to a lead of number m\n",
      "\n",
      "\n",
      "==============================================\n",
      "============== Example # 1 =================\n",
      "\n",
      "Issue Body:\n",
      " earthwork in excavation for depth exceeding 0 m but not exceeding 10.0 m below ground level for foundations, trenches, pipe lines, storm water drains etc. including lifting, dressing of sides and ramming of bottom, shoring, strutting, dewatering, stacking of excavated soil with all equipment and materials, all complete as per specification, drawings and instruction of purchaser/ engineer, including a lead up to 500 m within plant boundary for all type of soil, weathered rock and hard rock. \n",
      "\n",
      "Original Title:\n",
      " exceeding 0 m but not exceeding 10.0 m a lead up to 500 m within plant boundary for all type of soil\n",
      "\n",
      "****** Machine Generated Title (Prediction) ******:\n",
      " excavation for depth exceeding number 0m but not exceeding number 0m but not exceeding number 0m a lead upto number m within plant all types of soil\n",
      "\n",
      "\n",
      "==============================================\n",
      "============== Example # 2 =================\n",
      "\n",
      "Issue Body:\n",
      " excavation in ordinary soil including lifting, dressing of sides and ramming of bottom, shoring, strutting, stacking of excavated soil, including disposal up to a lead of 50 m with manpower, machinery, tools and tackles, consumables etc. all complete as per the technical specifications, design, drawings and directions of the engineer-in-charge \n",
      "\n",
      "Original Title:\n",
      " ordinary soil  disposal up to a lead of 50 m with manpower\n",
      "\n",
      "****** Machine Generated Title (Prediction) ******:\n",
      " excavation in ordinary soil disposal up to a lead of number m\n",
      "\n",
      "\n",
      "==============================================\n",
      "============== Example # 2 =================\n",
      "\n",
      "Issue Body:\n",
      " excavation in ordinary soil including lifting, dressing of sides and ramming of bottom, shoring, strutting, stacking of excavated soil, including disposal up to a lead of 50 m with manpower, machinery, tools and tackles, consumables etc. all complete as per the technical specifications, design, drawings and directions of the engineer-in-charge \n",
      "\n",
      "Original Title:\n",
      " ordinary soil  disposal up to a lead of 50 m with manpower\n",
      "\n",
      "****** Machine Generated Title (Prediction) ******:\n",
      " excavation in ordinary soil disposal up to a lead of number m\n",
      "\n",
      "\n",
      "==============================================\n",
      "============== Example # 1 =================\n",
      "\n",
      "Issue Body:\n",
      " earthwork in excavation for depth exceeding 0 m but not exceeding 10.0 m below ground level for foundations, trenches, pipe lines, storm water drains etc. including lifting, dressing of sides and ramming of bottom, shoring, strutting, dewatering, stacking of excavated soil with all equipment and materials, all complete as per specification, drawings and instruction of purchaser/ engineer, including a lead up to 500 m within plant boundary for all type of soil, weathered rock and hard rock. \n",
      "\n",
      "Original Title:\n",
      " exceeding 0 m but not exceeding 10.0 m a lead up to 500 m within plant boundary for all type of soil\n",
      "\n",
      "****** Machine Generated Title (Prediction) ******:\n",
      " excavation for depth exceeding number 0m but not exceeding number 0m but not exceeding number 0m a lead upto number m within plant all types of soil\n",
      "\n",
      "\n",
      "==============================================\n",
      "============== Example # 1 =================\n",
      "\n",
      "Issue Body:\n",
      " earthwork in excavation for depth exceeding 0 m but not exceeding 10.0 m below ground level for foundations, trenches, pipe lines, storm water drains etc. including lifting, dressing of sides and ramming of bottom, shoring, strutting, dewatering, stacking of excavated soil with all equipment and materials, all complete as per specification, drawings and instruction of purchaser/ engineer, including a lead up to 500 m within plant boundary for all type of soil, weathered rock and hard rock. \n",
      "\n",
      "Original Title:\n",
      " exceeding 0 m but not exceeding 10.0 m a lead up to 500 m within plant boundary for all type of soil\n",
      "\n",
      "****** Machine Generated Title (Prediction) ******:\n",
      " excavation for depth exceeding number 0m but not exceeding number 0m but not exceeding number 0m a lead upto number m within plant all types of soil\n",
      "\n",
      "\n",
      "==============================================\n",
      "============== Example # 3 =================\n",
      "\n",
      "Issue Body:\n",
      " earthwork in excavation upto 2.0m depth below existing ground level for foundations including stripping of top soil, lifting, dressing of sides and ramming of bottom, stacking of excavated soil, dewatering with all equipment and materials complete as per specification, drawings and instructions of the purchaser / engineer, including a lead upto 100 m within plant boundary for all types of soil \n",
      "\n",
      "Original Title:\n",
      " excavation upto 2.0m depth  dewatering with all equipment  lead upto 100 m within plant boundary all types of soil\n",
      "\n",
      "****** Machine Generated Title (Prediction) ******:\n",
      " excavation upto number 0m depth a lead upto number m within plant boundary all types of soil\n",
      "\n",
      "\n",
      "==============================================\n",
      "============== Example # 1 =================\n",
      "\n",
      "Issue Body:\n",
      " earthwork in excavation for depth exceeding 0 m but not exceeding 10.0 m below ground level for foundations, trenches, pipe lines, storm water drains etc. including lifting, dressing of sides and ramming of bottom, shoring, strutting, dewatering, stacking of excavated soil with all equipment and materials, all complete as per specification, drawings and instruction of purchaser/ engineer, including a lead up to 500 m within plant boundary for all type of soil, weathered rock and hard rock. \n",
      "\n",
      "Original Title:\n",
      " exceeding 0 m but not exceeding 10.0 m a lead up to 500 m within plant boundary for all type of soil\n",
      "\n",
      "****** Machine Generated Title (Prediction) ******:\n",
      " excavation for depth exceeding number 0m but not exceeding number 0m but not exceeding number 0m a lead upto number m within plant all types of soil\n",
      "\n",
      "\n",
      "==============================================\n",
      "============== Example # 2 =================\n",
      "\n",
      "Issue Body:\n",
      " excavation in ordinary soil including lifting, dressing of sides and ramming of bottom, shoring, strutting, stacking of excavated soil, including disposal up to a lead of 50 m with manpower, machinery, tools and tackles, consumables etc. all complete as per the technical specifications, design, drawings and directions of the engineer-in-charge \n",
      "\n",
      "Original Title:\n",
      " ordinary soil  disposal up to a lead of 50 m with manpower\n",
      "\n",
      "****** Machine Generated Title (Prediction) ******:\n",
      " excavation in ordinary soil disposal up to a lead of number m\n",
      "\n",
      "\n",
      "==============================================\n",
      "============== Example # 3 =================\n",
      "\n",
      "Issue Body:\n",
      " earthwork in excavation upto 2.0m depth below existing ground level for foundations including stripping of top soil, lifting, dressing of sides and ramming of bottom, stacking of excavated soil, dewatering with all equipment and materials complete as per specification, drawings and instructions of the purchaser / engineer, including a lead upto 100 m within plant boundary for all types of soil \n",
      "\n",
      "Original Title:\n",
      " excavation upto 2.0m depth  dewatering with all equipment  lead upto 100 m within plant boundary all types of soil\n",
      "\n",
      "****** Machine Generated Title (Prediction) ******:\n",
      " excavation upto number 0m depth a lead upto number m within plant boundary all types of soil\n",
      "\n",
      "\n",
      "==============================================\n",
      "============== Example # 3 =================\n",
      "\n",
      "Issue Body:\n",
      " earthwork in excavation upto 2.0m depth below existing ground level for foundations including stripping of top soil, lifting, dressing of sides and ramming of bottom, stacking of excavated soil, dewatering with all equipment and materials complete as per specification, drawings and instructions of the purchaser / engineer, including a lead upto 100 m within plant boundary for all types of soil \n",
      "\n",
      "Original Title:\n",
      " excavation upto 2.0m depth  dewatering with all equipment  lead upto 100 m within plant boundary all types of soil\n",
      "\n",
      "****** Machine Generated Title (Prediction) ******:\n",
      " excavation upto number 0m depth a lead upto number m within plant boundary all types of soil\n",
      "\n",
      "\n",
      "==============================================\n",
      "============== Example # 1 =================\n",
      "\n",
      "Issue Body:\n",
      " earthwork in excavation for depth exceeding 0 m but not exceeding 10.0 m below ground level for foundations, trenches, pipe lines, storm water drains etc. including lifting, dressing of sides and ramming of bottom, shoring, strutting, dewatering, stacking of excavated soil with all equipment and materials, all complete as per specification, drawings and instruction of purchaser/ engineer, including a lead up to 500 m within plant boundary for all type of soil, weathered rock and hard rock. \n",
      "\n",
      "Original Title:\n",
      " exceeding 0 m but not exceeding 10.0 m a lead up to 500 m within plant boundary for all type of soil\n",
      "\n",
      "****** Machine Generated Title (Prediction) ******:\n",
      " excavation for depth exceeding number 0m but not exceeding number 0m but not exceeding number 0m a lead upto number m within plant all types of soil\n",
      "\n",
      "\n",
      "==============================================\n",
      "============== Example # 1 =================\n",
      "\n",
      "Issue Body:\n",
      " earthwork in excavation for depth exceeding 0 m but not exceeding 10.0 m below ground level for foundations, trenches, pipe lines, storm water drains etc. including lifting, dressing of sides and ramming of bottom, shoring, strutting, dewatering, stacking of excavated soil with all equipment and materials, all complete as per specification, drawings and instruction of purchaser/ engineer, including a lead up to 500 m within plant boundary for all type of soil, weathered rock and hard rock. \n",
      "\n",
      "Original Title:\n",
      " exceeding 0 m but not exceeding 10.0 m a lead up to 500 m within plant boundary for all type of soil\n",
      "\n",
      "****** Machine Generated Title (Prediction) ******:\n",
      " excavation for depth exceeding number 0m but not exceeding number 0m but not exceeding number 0m a lead upto number m within plant all types of soil\n",
      "\n",
      "\n",
      "==============================================\n",
      "============== Example # 1 =================\n",
      "\n",
      "Issue Body:\n",
      " earthwork in excavation for depth exceeding 0 m but not exceeding 10.0 m below ground level for foundations, trenches, pipe lines, storm water drains etc. including lifting, dressing of sides and ramming of bottom, shoring, strutting, dewatering, stacking of excavated soil with all equipment and materials, all complete as per specification, drawings and instruction of purchaser/ engineer, including a lead up to 500 m within plant boundary for all type of soil, weathered rock and hard rock. \n"
     ]
    },
    {
     "name": "stdout",
     "output_type": "stream",
     "text": [
      "\n",
      "Original Title:\n",
      " exceeding 0 m but not exceeding 10.0 m a lead up to 500 m within plant boundary for all type of soil\n",
      "\n",
      "****** Machine Generated Title (Prediction) ******:\n",
      " excavation for depth exceeding number 0m but not exceeding number 0m but not exceeding number 0m a lead upto number m within plant all types of soil\n",
      "\n",
      "\n",
      "==============================================\n",
      "============== Example # 1 =================\n",
      "\n",
      "Issue Body:\n",
      " earthwork in excavation for depth exceeding 0 m but not exceeding 10.0 m below ground level for foundations, trenches, pipe lines, storm water drains etc. including lifting, dressing of sides and ramming of bottom, shoring, strutting, dewatering, stacking of excavated soil with all equipment and materials, all complete as per specification, drawings and instruction of purchaser/ engineer, including a lead up to 500 m within plant boundary for all type of soil, weathered rock and hard rock. \n",
      "\n",
      "Original Title:\n",
      " exceeding 0 m but not exceeding 10.0 m a lead up to 500 m within plant boundary for all type of soil\n",
      "\n",
      "****** Machine Generated Title (Prediction) ******:\n",
      " excavation for depth exceeding number 0m but not exceeding number 0m but not exceeding number 0m a lead upto number m within plant all types of soil\n",
      "\n",
      "\n",
      "==============================================\n",
      "============== Example # 2 =================\n",
      "\n",
      "Issue Body:\n",
      " excavation in ordinary soil including lifting, dressing of sides and ramming of bottom, shoring, strutting, stacking of excavated soil, including disposal up to a lead of 50 m with manpower, machinery, tools and tackles, consumables etc. all complete as per the technical specifications, design, drawings and directions of the engineer-in-charge \n",
      "\n",
      "Original Title:\n",
      " ordinary soil  disposal up to a lead of 50 m with manpower\n",
      "\n",
      "****** Machine Generated Title (Prediction) ******:\n",
      " excavation in ordinary soil disposal up to a lead of number m\n",
      "\n",
      "\n",
      "==============================================\n",
      "============== Example # 1 =================\n",
      "\n",
      "Issue Body:\n",
      " earthwork in excavation for depth exceeding 0 m but not exceeding 10.0 m below ground level for foundations, trenches, pipe lines, storm water drains etc. including lifting, dressing of sides and ramming of bottom, shoring, strutting, dewatering, stacking of excavated soil with all equipment and materials, all complete as per specification, drawings and instruction of purchaser/ engineer, including a lead up to 500 m within plant boundary for all type of soil, weathered rock and hard rock. \n",
      "\n",
      "Original Title:\n",
      " exceeding 0 m but not exceeding 10.0 m a lead up to 500 m within plant boundary for all type of soil\n",
      "\n",
      "****** Machine Generated Title (Prediction) ******:\n",
      " excavation for depth exceeding number 0m but not exceeding number 0m but not exceeding number 0m a lead upto number m within plant all types of soil\n",
      "\n",
      "\n",
      "==============================================\n",
      "============== Example # 3 =================\n",
      "\n",
      "Issue Body:\n",
      " earthwork in excavation upto 2.0m depth below existing ground level for foundations including stripping of top soil, lifting, dressing of sides and ramming of bottom, stacking of excavated soil, dewatering with all equipment and materials complete as per specification, drawings and instructions of the purchaser / engineer, including a lead upto 100 m within plant boundary for all types of soil \n",
      "\n",
      "Original Title:\n",
      " excavation upto 2.0m depth  dewatering with all equipment  lead upto 100 m within plant boundary all types of soil\n",
      "\n",
      "****** Machine Generated Title (Prediction) ******:\n",
      " excavation upto number 0m depth a lead upto number m within plant boundary all types of soil\n"
     ]
    }
   ],
   "source": [
    "# this method displays the predictions on random rows of the holdout set\n",
    "seq2seq_inf.demo_model_predictions(n=25, issue_df=testdf)"
   ]
  },
  {
   "cell_type": "code",
   "execution_count": null,
   "metadata": {
    "collapsed": true
   },
   "outputs": [],
   "source": []
  }
 ],
 "metadata": {
  "kernelspec": {
   "display_name": "Python 3",
   "language": "python",
   "name": "python3"
  },
  "language_info": {
   "codemirror_mode": {
    "name": "ipython",
    "version": 3
   },
   "file_extension": ".py",
   "mimetype": "text/x-python",
   "name": "python",
   "nbconvert_exporter": "python",
   "pygments_lexer": "ipython3",
   "version": "3.6.9"
  }
 },
 "nbformat": 4,
 "nbformat_minor": 2
}
